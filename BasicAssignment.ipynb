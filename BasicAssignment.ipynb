{
 "cells": [
  {
   "cell_type": "markdown",
   "metadata": {},
   "source": [
    "# MPyC Tutorial\n",
    "by Niek J. Bouman, 2018"
   ]
  },
  {
   "cell_type": "markdown",
   "metadata": {},
   "source": [
    "## Optionally: install MPyC via pip:\n",
    "You need the pip that belongs to Python3; maybe it is called, e.g, `pip3` or `pip-3.6` on your system."
   ]
  },
  {
   "cell_type": "code",
   "execution_count": null,
   "metadata": {
    "collapsed": true
   },
   "outputs": [],
   "source": [
    "!pip install --user mpyc"
   ]
  },
  {
   "cell_type": "markdown",
   "metadata": {},
   "source": [
    "## Loading the MPyC package and some initialization"
   ]
  },
  {
   "cell_type": "code",
   "execution_count": null,
   "metadata": {
    "collapsed": true
   },
   "outputs": [],
   "source": [
    "from mpyc.runtime import mpc    # load MPyC\n",
    "secint = mpc.SecInt()           # 32-bit secure MPyC integers"
   ]
  },
  {
   "cell_type": "markdown",
   "metadata": {},
   "source": [
    "### A simple \"Hello World\" test: multiply two secints, and reveal the result"
   ]
  },
  {
   "cell_type": "code",
   "execution_count": null,
   "metadata": {
    "collapsed": true
   },
   "outputs": [],
   "source": [
    "x = secint(3)\n",
    "y = secint(5)\n",
    "\n",
    "z = x*y\n",
    "f = mpc.output(z)\n",
    "mpc.run(f)"
   ]
  },
  {
   "cell_type": "markdown",
   "metadata": {},
   "source": [
    "### Understanding the system"
   ]
  },
  {
   "cell_type": "markdown",
   "metadata": {},
   "source": [
    "What is the type of `z`?"
   ]
  },
  {
   "cell_type": "code",
   "execution_count": null,
   "metadata": {
    "collapsed": true
   },
   "outputs": [],
   "source": []
  },
  {
   "cell_type": "markdown",
   "metadata": {},
   "source": [
    "What is the type of f?"
   ]
  },
  {
   "cell_type": "code",
   "execution_count": null,
   "metadata": {
    "collapsed": true
   },
   "outputs": [],
   "source": []
  },
  {
   "cell_type": "markdown",
   "metadata": {},
   "source": [
    "What happens if you try to run `f` again?"
   ]
  },
  {
   "cell_type": "code",
   "execution_count": null,
   "metadata": {
    "collapsed": true
   },
   "outputs": [],
   "source": [
    "mpyc.run(f)"
   ]
  },
  {
   "cell_type": "markdown",
   "metadata": {},
   "source": [
    "### Mixing secret and public values"
   ]
  },
  {
   "cell_type": "code",
   "execution_count": null,
   "metadata": {
    "collapsed": true
   },
   "outputs": [],
   "source": [
    "x = secint(4)\n",
    "y = 7\n",
    "\n",
    "z = x*y\n",
    "mpc.run(mpc.output(z))"
   ]
  },
  {
   "cell_type": "markdown",
   "metadata": {},
   "source": [
    "Is `z` a public or secret value?"
   ]
  },
  {
   "cell_type": "markdown",
   "metadata": {},
   "source": [
    "## Performance of Basic Operations\n",
    "We will compare the performance of operations like addition, multiplication and comparison; between (a) ordinary (\"non-secret\") python integer object (or numpy arrays) and (b) `secint` types."
   ]
  },
  {
   "cell_type": "code",
   "execution_count": null,
   "metadata": {
    "collapsed": true
   },
   "outputs": [],
   "source": [
    "import random\n",
    "import timeit"
   ]
  },
  {
   "cell_type": "markdown",
   "metadata": {},
   "source": [
    "### Addition\n",
    "\n",
    "Addition of many numbers (using `numpy`)"
   ]
  },
  {
   "cell_type": "code",
   "execution_count": null,
   "metadata": {
    "collapsed": true
   },
   "outputs": [],
   "source": [
    "import numpy as np\n",
    "\n",
    "N = 100000\n",
    "X = np.random.randint(0,2**32, N)\n",
    "\n",
    "start = timeit.default_timer()\n",
    "Z=np.sum(X)\n",
    "print(timeit.default_timer() - start, \"seconds\")"
   ]
  },
  {
   "cell_type": "markdown",
   "metadata": {},
   "source": [
    "Addition, but then using `secint` types "
   ]
  },
  {
   "cell_type": "code",
   "execution_count": null,
   "metadata": {
    "collapsed": true
   },
   "outputs": [],
   "source": [
    "N = 100000\n",
    "X = [secint(random.randint(0,2**32-1)) for _ in range(N)]\n",
    "\n",
    "start = timeit.default_timer()\n",
    "\n",
    "Z=mpc.sum(X)\n",
    "mpc.run(mpc.output(Z))\n",
    "\n",
    "print(timeit.default_timer() - start, \"seconds\")"
   ]
  },
  {
   "cell_type": "markdown",
   "metadata": {},
   "source": [
    "What is your conclusion?"
   ]
  },
  {
   "cell_type": "markdown",
   "metadata": {},
   "source": [
    "### Multiplication"
   ]
  },
  {
   "cell_type": "code",
   "execution_count": null,
   "metadata": {
    "collapsed": true
   },
   "outputs": [],
   "source": [
    "import numpy as np\n",
    "\n",
    "N = 10000\n",
    "X = np.random.randint(0,2**32, N)\n",
    "Y = np.random.randint(0,2**32, N)\n",
    "\n",
    "start = timeit.default_timer()\n",
    "\n",
    "Z=np.dot(X,Y)\n",
    "\n",
    "print(timeit.default_timer() - start, \"seconds\")"
   ]
  },
  {
   "cell_type": "code",
   "execution_count": null,
   "metadata": {
    "collapsed": true
   },
   "outputs": [],
   "source": [
    "N = 100000\n",
    "X = [secint(random.randint(0,2**32-1)) for _ in range(N)]\n",
    "Y = [secint(random.randint(0,2**32-1)) for _ in range(N)]\n",
    "\n",
    "start = timeit.default_timer()\n",
    "\n",
    "Z=mpc.in_prod(X,Y)\n",
    "mpc.run(mpc.output(Z))\n",
    "\n",
    "print(timeit.default_timer() - start, \"seconds\")"
   ]
  },
  {
   "cell_type": "markdown",
   "metadata": {},
   "source": [
    "### Integer Comparisons"
   ]
  },
  {
   "cell_type": "code",
   "execution_count": null,
   "metadata": {
    "collapsed": true
   },
   "outputs": [],
   "source": [
    "import numpy as np\n",
    "\n",
    "N = 10000\n",
    "X = np.random.randint(0,2**32,1000)\n",
    "Y = np.random.randint(0,2**32,1000)\n",
    "\n",
    "start = timeit.default_timer()\n",
    "\n",
    "Z = X < Y\n",
    "\n",
    "print(timeit.default_timer() - start, \"seconds\")"
   ]
  },
  {
   "cell_type": "code",
   "execution_count": null,
   "metadata": {
    "collapsed": true
   },
   "outputs": [],
   "source": [
    "N = 10000\n",
    "\n",
    "X = [secint(random.randint(0,2**32-1)) for _ in range(N)]\n",
    "Y = [secint(random.randint(0,2**32-1)) for _ in range(N)]\n",
    "\n",
    "start = timeit.default_timer()\n",
    "\n",
    "Z=[x < y for (x,y) in zip(X,Y)]\n",
    "output = mpc.run(mpc.output(Z))\n",
    "\n",
    "print(timeit.default_timer() - start, \"seconds\")"
   ]
  },
  {
   "cell_type": "markdown",
   "metadata": {},
   "source": [
    "### (Re-)Run the benchmarks above for various values of N, and make a table and a plot in which you compare the absolute and relative running speeds of the different operations. What is your conclusion?"
   ]
  },
  {
   "cell_type": "code",
   "execution_count": 3,
   "metadata": {},
   "outputs": [
    {
     "data": {
      "text/plain": [
       "[<matplotlib.lines.Line2D at 0x105ff46a0>]"
      ]
     },
     "execution_count": 3,
     "metadata": {},
     "output_type": "execute_result"
    },
    {
     "data": {
      "image/png": "[encoded data removed]",
      "text/plain": [
       "<matplotlib.figure.Figure at 0x105f6a0b8>"
      ]
     },
     "metadata": {},
     "output_type": "display_data"
    }
   ],
   "source": [
    "# in this way you get a plot inside Jupyter\n",
    "\n",
    "%matplotlib inline\n",
    "import matplotlib.pyplot as plt\n",
    "plt.plot([1,2,3])"
   ]
  },
  {
   "cell_type": "markdown",
   "metadata": {},
   "source": [
    "## Experimenting with Division\n",
    "Run the following code: "
   ]
  },
  {
   "cell_type": "code",
   "execution_count": null,
   "metadata": {
    "collapsed": true
   },
   "outputs": [],
   "source": [
    "x = secint(10)\n",
    "y = secint(2)\n",
    "mpc.run(mpc.output(x/y))"
   ]
  },
  {
   "cell_type": "markdown",
   "metadata": {},
   "source": [
    "Now run this code:"
   ]
  },
  {
   "cell_type": "code",
   "execution_count": null,
   "metadata": {
    "collapsed": true
   },
   "outputs": [],
   "source": [
    "x = secint(2)\n",
    "y = secint(3)\n",
    "z = mpc.run(mpc.output(x/y))\n",
    "print(z)"
   ]
  },
  {
   "cell_type": "markdown",
   "metadata": {},
   "source": [
    "Can you explain the result above?\n",
    "\n",
    "Run the code below and explain what happens"
   ]
  },
  {
   "cell_type": "code",
   "execution_count": null,
   "metadata": {
    "collapsed": true
   },
   "outputs": [],
   "source": [
    "mpc.run(mpc.output(z*y))"
   ]
  },
  {
   "cell_type": "markdown",
   "metadata": {},
   "source": [
    "Recall from the lecture that we are working in a __finite field__ (more precisely, a prime-order field)"
   ]
  },
  {
   "cell_type": "code",
   "execution_count": null,
   "metadata": {
    "collapsed": true
   },
   "outputs": [],
   "source": [
    "secint.field"
   ]
  },
  {
   "cell_type": "markdown",
   "metadata": {},
   "source": [
    "Now, have a look at:\n",
    "https://en.wikipedia.org/wiki/Modular_multiplicative_inverse\n",
    "\n",
    "Can you reproduce the value z without making use of the \"`/`\"-operator? (Hint: use `mpc.reciprocal(y)`, which computes the multiplicative inverse of `y`)"
   ]
  },
  {
   "cell_type": "code",
   "execution_count": null,
   "metadata": {
    "collapsed": true
   },
   "outputs": [],
   "source": []
  },
  {
   "cell_type": "markdown",
   "metadata": {},
   "source": [
    "Now, you can continue with `SecretSantaExplained.ipynb` and `SortingNetworksExplained.ipynb` which can be found in the `/demos` directory of the MPyC installation.\n",
    "\n",
    "_After_ reading through the `SecretSantaExplained` notebook, try the following assignment \n",
    "\n",
    "## Assignment\n",
    "Currently, as a proof of concept, the SecretSanta program outputs derangements on {1, ..., $n$} for increasing values of $n$, and moreover, it outputs the entire derangement to all parties. \n",
    "For a practical deployment, you would need to slightly modify the program:\n",
    " - you only need to sample one derangement on the set {1, ... , N}, where N is the number of parties\n",
    " - you should only output the $i$-th part of the derangement to player $i$\n",
    " \n",
    "\n",
    "_Can you make SecretSanta more realistic, by applying those two modifications ?_"
   ]
  }
 ],
 "metadata": {
  "kernelspec": {
   "display_name": "Python 3",
   "language": "python",
   "name": "python3"
  },
  "language_info": {
   "codemirror_mode": {
    "name": "ipython",
    "version": 3
   },
   "file_extension": ".py",
   "mimetype": "text/x-python",
   "name": "python",
   "nbconvert_exporter": "python",
   "pygments_lexer": "ipython3",
   "version": "3.6.6"
  }
 },
 "nbformat": 4,
 "nbformat_minor": 2
}
